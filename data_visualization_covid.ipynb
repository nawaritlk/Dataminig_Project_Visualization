{
 "cells": [
  {
   "cell_type": "code",
   "execution_count": 4,
   "metadata": {},
   "outputs": [],
   "source": [
    "%matplotlib inline\n",
    "\n",
    "import matplotlib as mpl\n",
    "import pandas as pd\n",
    "from matplotlib import pyplot as plt\n",
    "import seaborn as sns\n",
    "from scipy.io import arff"
   ]
  },
  {
   "cell_type": "code",
   "execution_count": 9,
   "metadata": {
    "scrolled": true
   },
   "outputs": [
    {
     "name": "stdout",
     "output_type": "stream",
     "text": [
      "<class 'pandas.core.frame.DataFrame'>\n",
      "RangeIndex: 5644 entries, 0 to 5643\n",
      "Data columns (total 38 columns):\n",
      " #   Column                                                 Non-Null Count  Dtype  \n",
      "---  ------                                                 --------------  -----  \n",
      " 0   Patient age quantile                                   5644 non-null   float64\n",
      " 1   SARS-Cov-2 exam result                                 5644 non-null   object \n",
      " 2   Patient addmited to regular ward (1=yes, 0=no)         5644 non-null   float64\n",
      " 3   Patient addmited to semi-intensive unit (1=yes, 0=no)  5644 non-null   float64\n",
      " 4   Patient addmited to intensive care unit (1=yes, 0=no)  5644 non-null   float64\n",
      " 5   Hematocrit                                             5644 non-null   float64\n",
      " 6   Hemoglobin                                             5644 non-null   float64\n",
      " 7   Platelets                                              5644 non-null   float64\n",
      " 8   Mean platelet volume                                   5644 non-null   float64\n",
      " 9   Red blood Cells                                        5644 non-null   float64\n",
      " 10  Lymphocytes                                            5644 non-null   float64\n",
      " 11  Mean corpuscular hemoglobin concentration (MCHC)       5644 non-null   float64\n",
      " 12  Leukocytes                                             5644 non-null   float64\n",
      " 13  Basophils                                              5644 non-null   float64\n",
      " 14  Mean corpuscular hemoglobin (MCH)                      5644 non-null   float64\n",
      " 15  Eosinophils                                            5644 non-null   float64\n",
      " 16  Mean corpuscular volume (MCV)                          5644 non-null   float64\n",
      " 17  Monocytes                                              5644 non-null   float64\n",
      " 18  Red blood cell distribution width (RDW)                5644 non-null   float64\n",
      " 19  Respiratory Syncytial Virus                            5644 non-null   object \n",
      " 20  Influenza A                                            5644 non-null   object \n",
      " 21  Influenza B                                            5644 non-null   object \n",
      " 22  Parainfluenza 1                                        5644 non-null   object \n",
      " 23  CoronavirusNL63                                        5644 non-null   object \n",
      " 24  Rhinovirus/Enterovirus                                 5644 non-null   object \n",
      " 25  Coronavirus HKU1                                       5644 non-null   object \n",
      " 26  Parainfluenza 3                                        5644 non-null   object \n",
      " 27  Chlamydophila pneumoniae                               5644 non-null   object \n",
      " 28  Adenovirus                                             5644 non-null   object \n",
      " 29  Parainfluenza 4                                        5644 non-null   object \n",
      " 30  Coronavirus229E                                        5644 non-null   object \n",
      " 31  CoronavirusOC43                                        5644 non-null   object \n",
      " 32  Inf A H1N1 2009                                        5644 non-null   object \n",
      " 33  Bordetella pertussis                                   5644 non-null   object \n",
      " 34  Metapneumovirus                                        5644 non-null   object \n",
      " 35  Parainfluenza 2                                        5644 non-null   object \n",
      " 36  Influenza B, rapid test                                5644 non-null   object \n",
      " 37  Influenza A, rapid test                                5644 non-null   object \n",
      "dtypes: float64(18), object(20)\n",
      "memory usage: 1.6+ MB\n"
     ]
    }
   ],
   "source": [
    "balance_data = arff.loadarff('covidbalance.arff')\n",
    "balancedata = pd.DataFrame(balance_data[0])\n",
    "balancedata.info()"
   ]
  },
  {
   "cell_type": "code",
   "execution_count": 13,
   "metadata": {},
   "outputs": [
    {
     "data": {
      "image/png": "[encoded data removed]",
      "text/plain": [
       "<Figure size 432x288 with 1 Axes>"
      ]
     },
     "metadata": {
      "needs_background": "light"
     },
     "output_type": "display_data"
    }
   ],
   "source": [
    "ax =sns.boxplot(x =\"SARS-Cov-2 exam result\", y=\"Lymphocytes\",data=balancedata)"
   ]
  },
  {
   "cell_type": "code",
   "execution_count": null,
   "metadata": {},
   "outputs": [],
   "source": []
  }
 ],
 "metadata": {
  "kernelspec": {
   "display_name": "Python 3",
   "language": "python",
   "name": "python3"
  },
  "language_info": {
   "codemirror_mode": {
    "name": "ipython",
    "version": 3
   },
   "file_extension": ".py",
   "mimetype": "text/x-python",
   "name": "python",
   "nbconvert_exporter": "python",
   "pygments_lexer": "ipython3",
   "version": "3.7.6"
  }
 },
 "nbformat": 4,
 "nbformat_minor": 4
}
